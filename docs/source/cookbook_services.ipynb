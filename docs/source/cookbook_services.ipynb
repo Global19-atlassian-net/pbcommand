{
 "cells": [
  {
   "cell_type": "markdown",
   "metadata": {},
   "source": [
    "# Cookbook SMRT Link Webservices using pbcommand"
   ]
  },
  {
   "cell_type": "code",
   "execution_count": 2,
   "metadata": {
    "collapsed": false
   },
   "outputs": [
    {
     "name": "stdout",
     "output_type": "stream",
     "text": [
      "0.6.0\n"
     ]
    }
   ],
   "source": [
    "# https://github.com/PacificBiosciences/pbcommand\n",
    "# install via\n",
    "# pip install -e git://github.com/PacificBiosciences/pbcommand.git#egg=pbcommand`\n",
    "import pbcommand\n",
    "from pbcommand.services import ServiceAccessLayer\n",
    "print pbcommand.get_version()"
   ]
  },
  {
   "cell_type": "markdown",
   "metadata": {},
   "source": [
    "## Configure and Get Status"
   ]
  },
  {
   "cell_type": "code",
   "execution_count": 3,
   "metadata": {
    "collapsed": false
   },
   "outputs": [],
   "source": [
    "host = \"smrtlink-beta\"\n",
    "port = 8081\n",
    "sal = ServiceAccessLayer(host, port)"
   ]
  },
  {
   "cell_type": "code",
   "execution_count": 4,
   "metadata": {
    "collapsed": false
   },
   "outputs": [
    {
     "data": {
      "text/plain": [
       "{u'id': u'smrtlink_analysis',\n",
       " u'message': u'Services have been up for 257 hours, 10 minutes and 1.427 second.',\n",
       " u'uptime': 925801427,\n",
       " u'user': u'secondarytest',\n",
       " u'uuid': u'6742aebc-bce8-45b6-acfe-422c9d941884',\n",
       " u'version': u'0.3.0-bbcc1b5'}"
      ]
     },
     "execution_count": 4,
     "metadata": {},
     "output_type": "execute_result"
    }
   ],
   "source": [
    "sal.get_status()"
   ]
  },
  {
   "cell_type": "markdown",
   "metadata": {},
   "source": [
    "## Get SubreadSet from SMRT Link Services"
   ]
  },
  {
   "cell_type": "markdown",
   "metadata": {},
   "source": [
    "### Get SubreadSet details by UUID"
   ]
  },
  {
   "cell_type": "code",
   "execution_count": 5,
   "metadata": {
    "collapsed": true
   },
   "outputs": [],
   "source": [
    "# Example SubreadSet\n",
    "subreadset_uuid = \"4463c7d8-4b6e-43a3-93ff-325628066a0b\""
   ]
  },
  {
   "cell_type": "code",
   "execution_count": 6,
   "metadata": {
    "collapsed": true
   },
   "outputs": [],
   "source": [
    "ds = sal.get_subreadset_by_id(subreadset_uuid)"
   ]
  },
  {
   "cell_type": "code",
   "execution_count": 7,
   "metadata": {
    "collapsed": false
   },
   "outputs": [
    {
     "data": {
      "text/plain": [
       "(u'm54008_160614_021525',\n",
       " u'SMS_FleaBenchmark_15kbEcoli_trypsin_A8_061316',\n",
       " 19251,\n",
       " 12469,\n",
       " u'A01',\n",
       " u'/pbi/collections/315/3150259/r54008_20160614_021104/1_A01/m54008_160614_021525.subreadset.xml',\n",
       " u'4463c7d8-4b6e-43a3-93ff-325628066a0b')"
      ]
     },
     "execution_count": 7,
     "metadata": {},
     "output_type": "execute_result"
    }
   ],
   "source": [
    "ds['metadataContextId'], ds['name'], ds['id'], ds['jobId'], ds['wellName'], ds['path'], ds['uuid']"
   ]
  },
  {
   "cell_type": "code",
   "execution_count": 9,
   "metadata": {
    "collapsed": false
   },
   "outputs": [
    {
     "data": {
      "text/plain": [
       "(u'4463c7d8-4b6e-43a3-93ff-325628066a0b',\n",
       " u'4463c7d8-4b6e-43a3-93ff-325628066a0b')"
      ]
     },
     "execution_count": 9,
     "metadata": {},
     "output_type": "execute_result"
    }
   ],
   "source": [
    "# or get by Int id\n",
    "dx = sal.get_subreadset_by_id(ds['id'])\n",
    "dx['uuid'], ds['uuid']"
   ]
  },
  {
   "cell_type": "code",
   "execution_count": 10,
   "metadata": {
    "collapsed": true
   },
   "outputs": [],
   "source": [
    "# Get the Import Job associated with the SubreadSet. This Job computes the metrics at import time"
   ]
  },
  {
   "cell_type": "code",
   "execution_count": 11,
   "metadata": {
    "collapsed": true
   },
   "outputs": [],
   "source": [
    "import_job_id = ds['jobId']"
   ]
  },
  {
   "cell_type": "markdown",
   "metadata": {},
   "source": [
    "### Get SubreadSet Import Job and Import Report Metrics"
   ]
  },
  {
   "cell_type": "code",
   "execution_count": 12,
   "metadata": {
    "collapsed": true
   },
   "outputs": [],
   "source": [
    "import_job = sal.get_import_job_by_id(import_job_id)"
   ]
  },
  {
   "cell_type": "code",
   "execution_count": 13,
   "metadata": {
    "collapsed": false
   },
   "outputs": [
    {
     "data": {
      "text/plain": [
       "<ServiceJob i:12469 state: SUCCESSFUL created:06-14-2016 05:45.46 by:kgleitsman name:Job import-data... runtime: 0.00 sec >"
      ]
     },
     "execution_count": 13,
     "metadata": {},
     "output_type": "execute_result"
    }
   ],
   "source": [
    "import_job"
   ]
  },
  {
   "cell_type": "code",
   "execution_count": 14,
   "metadata": {
    "collapsed": false
   },
   "outputs": [
    {
     "data": {
      "text/plain": [
       "'SUCCESSFUL'"
      ]
     },
     "execution_count": 14,
     "metadata": {},
     "output_type": "execute_result"
    }
   ],
   "source": [
    "import_job.state"
   ]
  },
  {
   "cell_type": "code",
   "execution_count": 15,
   "metadata": {
    "collapsed": false
   },
   "outputs": [
    {
     "data": {
      "text/plain": [
       "'Job import-dataset'"
      ]
     },
     "execution_count": 15,
     "metadata": {},
     "output_type": "execute_result"
    }
   ],
   "source": [
    "import_job.name"
   ]
  },
  {
   "cell_type": "code",
   "execution_count": 16,
   "metadata": {
    "collapsed": false
   },
   "outputs": [],
   "source": [
    "import_report_attributes = sal.get_import_job_report_attrs(import_job.id)"
   ]
  },
  {
   "cell_type": "code",
   "execution_count": 17,
   "metadata": {
    "collapsed": false
   },
   "outputs": [
    {
     "data": {
      "text/plain": [
       "{u'adapter_xml_report.adapter_dimers': 0.02,\n",
       " u'adapter_xml_report.short_inserts': 1.63,\n",
       " u'raw_data_report.insert_length': 5974,\n",
       " u'raw_data_report.nbases': 2769788750,\n",
       " u'raw_data_report.nreads': 539045,\n",
       " u'raw_data_report.read_length': 5138,\n",
       " u'raw_data_report.read_n50': 10250}"
      ]
     },
     "execution_count": 17,
     "metadata": {},
     "output_type": "execute_result"
    }
   ],
   "source": [
    "import_report_attributes # This are what are displayed in SMRT Link for Import Job Types"
   ]
  },
  {
   "cell_type": "markdown",
   "metadata": {},
   "source": [
    "## Get Analysis (pbsmrtpipe) Job"
   ]
  },
  {
   "cell_type": "code",
   "execution_count": 18,
   "metadata": {
    "collapsed": true
   },
   "outputs": [],
   "source": [
    "analysis_job_id = 12524 # Random Example Job"
   ]
  },
  {
   "cell_type": "code",
   "execution_count": 19,
   "metadata": {
    "collapsed": true
   },
   "outputs": [],
   "source": [
    "analysis_job = sal.get_analysis_job_by_id(analysis_job_id)"
   ]
  },
  {
   "cell_type": "code",
   "execution_count": 20,
   "metadata": {
    "collapsed": false
   },
   "outputs": [
    {
     "data": {
      "text/plain": [
       "<ServiceJob i:12524 state: SUCCESSFUL created:06-15-2016 01:02.30 by:avnguyen name:54082_FAT1_2Cel... runtime: 0.00 sec >"
      ]
     },
     "execution_count": 20,
     "metadata": {},
     "output_type": "execute_result"
    }
   ],
   "source": [
    "analysis_job"
   ]
  },
  {
   "cell_type": "code",
   "execution_count": 21,
   "metadata": {
    "collapsed": false
   },
   "outputs": [
    {
     "data": {
      "text/plain": [
       "u'pbsmrtpipe.pipelines.sa3_sat'"
      ]
     },
     "execution_count": 21,
     "metadata": {},
     "output_type": "execute_result"
    }
   ],
   "source": [
    "analysis_job.settings['pipelineId']"
   ]
  },
  {
   "cell_type": "markdown",
   "metadata": {},
   "source": [
    "### Get the Entry Points to the Pipeline"
   ]
  },
  {
   "cell_type": "code",
   "execution_count": 22,
   "metadata": {
    "collapsed": true
   },
   "outputs": [],
   "source": [
    "# Get Entry Points Use\n",
    "eps = sal.get_analysis_job_entry_points(analysis_job_id)"
   ]
  },
  {
   "cell_type": "code",
   "execution_count": 23,
   "metadata": {
    "collapsed": false
   },
   "outputs": [
    {
     "name": "stdout",
     "output_type": "stream",
     "text": [
      "JobEntryPoint(job_id=12524, dataset_uuid=u'3adaa998-8ba9-4f7c-97c4-2ef343b419bb', dataset_metatype=u'PacBio.DataSet.SubreadSet')\n",
      "JobEntryPoint(job_id=12524, dataset_uuid=u'c2f73d21-b3bf-4b69-a3a3-6beeb7b22e26', dataset_metatype=u'PacBio.DataSet.ReferenceSet')\n"
     ]
    }
   ],
   "source": [
    "for e in eps:\n",
    "    print e"
   ]
  },
  {
   "cell_type": "markdown",
   "metadata": {
    "collapsed": true
   },
   "source": [
    "### Get Report Metrics for Analysis Job"
   ]
  },
  {
   "cell_type": "code",
   "execution_count": 24,
   "metadata": {
    "collapsed": true
   },
   "outputs": [],
   "source": [
    "analysis_report_attributes = sal.get_analysis_job_report_attrs(analysis_job_id)"
   ]
  },
  {
   "cell_type": "code",
   "execution_count": 25,
   "metadata": {
    "collapsed": false
   },
   "outputs": [
    {
     "data": {
      "text/plain": [
       "{u'coverage.depth_coverage_mean': 147.6752298049565,\n",
       " u'coverage.missing_bases_pct': 0.0,\n",
       " u'mapping_stats.mapped_readlength_max': 16470,\n",
       " u'mapping_stats.mapped_readlength_mean': 3743,\n",
       " u'mapping_stats.mapped_readlength_n50': 5974,\n",
       " u'mapping_stats.mapped_readlength_q95': 10400,\n",
       " u'mapping_stats.mapped_reads_n': 2319,\n",
       " u'mapping_stats.mapped_subread_bases_n': 7654453,\n",
       " u'mapping_stats.mapped_subread_concordance_mean': 0.8006,\n",
       " u'mapping_stats.mapped_subread_readlength_max': 4339.0,\n",
       " u'mapping_stats.mapped_subread_readlength_mean': 1055,\n",
       " u'mapping_stats.mapped_subreadlength_n50': 1328,\n",
       " u'mapping_stats.mapped_subreadlength_q95': 2070,\n",
       " u'mapping_stats.mapped_subreads_n': 7257,\n",
       " u'sat.accuracy': 1.0,\n",
       " u'sat.coverage': 1.0,\n",
       " u'sat.instrument': u'54082',\n",
       " u'sat.mapped_readlength_mean': 3743,\n",
       " u'sat.reads_in_cell': 2319,\n",
       " u'variants.longest_contig_name': u'lambda_NEB3011',\n",
       " u'variants.mean_contig_length': 48502.0,\n",
       " u'variants.weighted_mean_bases_called': 1.0,\n",
       " u'variants.weighted_mean_concordance': 1.0,\n",
       " u'variants.weighted_mean_coverage': 147.6752298049565}"
      ]
     },
     "execution_count": 25,
     "metadata": {},
     "output_type": "execute_result"
    }
   ],
   "source": [
    "analysis_report_attributes"
   ]
  },
  {
   "cell_type": "markdown",
   "metadata": {},
   "source": [
    "## Example of Getting Mulitple Jobs and extracting Metrics to build a Table"
   ]
  },
  {
   "cell_type": "code",
   "execution_count": 26,
   "metadata": {
    "collapsed": true
   },
   "outputs": [],
   "source": [
    "# Grab some example jobs\n",
    "job_ids = [12357, 12359, 12360, 12361, 12362, 12367]"
   ]
  },
  {
   "cell_type": "code",
   "execution_count": 27,
   "metadata": {
    "collapsed": true
   },
   "outputs": [],
   "source": [
    "def get_attrs_from_job_id(sal_, job_id_):\n",
    "    d = sal_.get_analysis_job_report_attrs(job_id_)\n",
    "    d['job_id'] = job_id_\n",
    "    d['host'] = host\n",
    "    d['port'] = port\n",
    "    return d"
   ]
  },
  {
   "cell_type": "code",
   "execution_count": 28,
   "metadata": {
    "collapsed": false
   },
   "outputs": [],
   "source": [
    "datum = [get_attrs_from_job_id(sal, x) for x in job_ids]"
   ]
  },
  {
   "cell_type": "code",
   "execution_count": 29,
   "metadata": {
    "collapsed": false
   },
   "outputs": [],
   "source": [
    "# Plot some data\n",
    "import matplotlib.pyplot as plt\n",
    "import matplotlib\n",
    "\n",
    "import pandas as pd\n",
    "import seaborn as sns\n",
    "sns.set_style(\"whitegrid\")\n",
    "%matplotlib inline"
   ]
  },
  {
   "cell_type": "code",
   "execution_count": 30,
   "metadata": {
    "collapsed": true
   },
   "outputs": [],
   "source": [
    "df = pd.DataFrame(datum)"
   ]
  },
  {
   "cell_type": "code",
   "execution_count": 31,
   "metadata": {
    "collapsed": false
   },
   "outputs": [
    {
     "data": {
      "text/html": [
       "<div>\n",
       "<table border=\"1\" class=\"dataframe\">\n",
       "  <thead>\n",
       "    <tr style=\"text-align: right;\">\n",
       "      <th></th>\n",
       "      <th>coverage.depth_coverage_mean</th>\n",
       "      <th>coverage.missing_bases_pct</th>\n",
       "      <th>host</th>\n",
       "      <th>job_id</th>\n",
       "      <th>mapping_stats.mapped_readlength_max</th>\n",
       "      <th>mapping_stats.mapped_readlength_mean</th>\n",
       "      <th>mapping_stats.mapped_readlength_n50</th>\n",
       "      <th>mapping_stats.mapped_readlength_q95</th>\n",
       "      <th>mapping_stats.mapped_reads_n</th>\n",
       "      <th>mapping_stats.mapped_subread_bases_n</th>\n",
       "      <th>...</th>\n",
       "      <th>mapping_stats.mapped_subread_readlength_mean</th>\n",
       "      <th>mapping_stats.mapped_subreadlength_n50</th>\n",
       "      <th>mapping_stats.mapped_subreadlength_q95</th>\n",
       "      <th>mapping_stats.mapped_subreads_n</th>\n",
       "      <th>port</th>\n",
       "      <th>variants.longest_contig_name</th>\n",
       "      <th>variants.mean_contig_length</th>\n",
       "      <th>variants.weighted_mean_bases_called</th>\n",
       "      <th>variants.weighted_mean_concordance</th>\n",
       "      <th>variants.weighted_mean_coverage</th>\n",
       "    </tr>\n",
       "  </thead>\n",
       "  <tbody>\n",
       "    <tr>\n",
       "      <th>0</th>\n",
       "      <td>40288.305513</td>\n",
       "      <td>0.0</td>\n",
       "      <td>smrtlink-beta</td>\n",
       "      <td>12357</td>\n",
       "      <td>35886</td>\n",
       "      <td>8178</td>\n",
       "      <td>16148</td>\n",
       "      <td>22480</td>\n",
       "      <td>272393</td>\n",
       "      <td>2074235751</td>\n",
       "      <td>...</td>\n",
       "      <td>1772</td>\n",
       "      <td>2075</td>\n",
       "      <td>2880</td>\n",
       "      <td>1170748</td>\n",
       "      <td>8081</td>\n",
       "      <td>lambda_NEB3011</td>\n",
       "      <td>48502.0</td>\n",
       "      <td>1.0</td>\n",
       "      <td>1.000000</td>\n",
       "      <td>40288.305513</td>\n",
       "    </tr>\n",
       "    <tr>\n",
       "      <th>1</th>\n",
       "      <td>364.705681</td>\n",
       "      <td>0.0</td>\n",
       "      <td>smrtlink-beta</td>\n",
       "      <td>12359</td>\n",
       "      <td>41461</td>\n",
       "      <td>4810</td>\n",
       "      <td>8968</td>\n",
       "      <td>16530</td>\n",
       "      <td>396370</td>\n",
       "      <td>1888916069</td>\n",
       "      <td>...</td>\n",
       "      <td>3732</td>\n",
       "      <td>6039</td>\n",
       "      <td>10010</td>\n",
       "      <td>506093</td>\n",
       "      <td>8081</td>\n",
       "      <td>ecoliK12_pbi_March2013</td>\n",
       "      <td>4642522.0</td>\n",
       "      <td>1.0</td>\n",
       "      <td>0.999834</td>\n",
       "      <td>364.705681</td>\n",
       "    </tr>\n",
       "    <tr>\n",
       "      <th>2</th>\n",
       "      <td>91904.489318</td>\n",
       "      <td>0.0</td>\n",
       "      <td>smrtlink-beta</td>\n",
       "      <td>12360</td>\n",
       "      <td>40505</td>\n",
       "      <td>11687</td>\n",
       "      <td>20660</td>\n",
       "      <td>30290</td>\n",
       "      <td>17762</td>\n",
       "      <td>191479775</td>\n",
       "      <td>...</td>\n",
       "      <td>1673</td>\n",
       "      <td>2016</td>\n",
       "      <td>2200</td>\n",
       "      <td>114447</td>\n",
       "      <td>8081</td>\n",
       "      <td>tkb_v1_C5_insertOnly</td>\n",
       "      <td>1966.0</td>\n",
       "      <td>1.0</td>\n",
       "      <td>1.000000</td>\n",
       "      <td>91904.489318</td>\n",
       "    </tr>\n",
       "    <tr>\n",
       "      <th>3</th>\n",
       "      <td>59869.400293</td>\n",
       "      <td>0.0</td>\n",
       "      <td>smrtlink-beta</td>\n",
       "      <td>12361</td>\n",
       "      <td>32517</td>\n",
       "      <td>7470</td>\n",
       "      <td>13719</td>\n",
       "      <td>20370</td>\n",
       "      <td>449931</td>\n",
       "      <td>3109535638</td>\n",
       "      <td>...</td>\n",
       "      <td>1872</td>\n",
       "      <td>2262</td>\n",
       "      <td>3150</td>\n",
       "      <td>1660986</td>\n",
       "      <td>8081</td>\n",
       "      <td>lambda_NEB3011</td>\n",
       "      <td>48502.0</td>\n",
       "      <td>1.0</td>\n",
       "      <td>1.000000</td>\n",
       "      <td>59869.400293</td>\n",
       "    </tr>\n",
       "    <tr>\n",
       "      <th>4</th>\n",
       "      <td>156.527813</td>\n",
       "      <td>0.0</td>\n",
       "      <td>smrtlink-beta</td>\n",
       "      <td>12362</td>\n",
       "      <td>42024</td>\n",
       "      <td>3304</td>\n",
       "      <td>5924</td>\n",
       "      <td>11470</td>\n",
       "      <td>248365</td>\n",
       "      <td>814056472</td>\n",
       "      <td>...</td>\n",
       "      <td>2859</td>\n",
       "      <td>4536</td>\n",
       "      <td>8850</td>\n",
       "      <td>284695</td>\n",
       "      <td>8081</td>\n",
       "      <td>ecoliK12_pbi_March2013</td>\n",
       "      <td>4642522.0</td>\n",
       "      <td>1.0</td>\n",
       "      <td>0.999937</td>\n",
       "      <td>156.527813</td>\n",
       "    </tr>\n",
       "    <tr>\n",
       "      <th>5</th>\n",
       "      <td>257.757219</td>\n",
       "      <td>0.0</td>\n",
       "      <td>smrtlink-beta</td>\n",
       "      <td>12367</td>\n",
       "      <td>37148</td>\n",
       "      <td>3237</td>\n",
       "      <td>5708</td>\n",
       "      <td>10240</td>\n",
       "      <td>413560</td>\n",
       "      <td>1330448079</td>\n",
       "      <td>...</td>\n",
       "      <td>2827</td>\n",
       "      <td>4643</td>\n",
       "      <td>8460</td>\n",
       "      <td>470554</td>\n",
       "      <td>8081</td>\n",
       "      <td>ecoliK12_pbi_March2013</td>\n",
       "      <td>4642522.0</td>\n",
       "      <td>1.0</td>\n",
       "      <td>0.999829</td>\n",
       "      <td>257.757219</td>\n",
       "    </tr>\n",
       "  </tbody>\n",
       "</table>\n",
       "<p>6 rows × 22 columns</p>\n",
       "</div>"
      ],
      "text/plain": [
       "   coverage.depth_coverage_mean  coverage.missing_bases_pct           host  \\\n",
       "0                  40288.305513                         0.0  smrtlink-beta   \n",
       "1                    364.705681                         0.0  smrtlink-beta   \n",
       "2                  91904.489318                         0.0  smrtlink-beta   \n",
       "3                  59869.400293                         0.0  smrtlink-beta   \n",
       "4                    156.527813                         0.0  smrtlink-beta   \n",
       "5                    257.757219                         0.0  smrtlink-beta   \n",
       "\n",
       "   job_id  mapping_stats.mapped_readlength_max  \\\n",
       "0   12357                                35886   \n",
       "1   12359                                41461   \n",
       "2   12360                                40505   \n",
       "3   12361                                32517   \n",
       "4   12362                                42024   \n",
       "5   12367                                37148   \n",
       "\n",
       "   mapping_stats.mapped_readlength_mean  mapping_stats.mapped_readlength_n50  \\\n",
       "0                                  8178                                16148   \n",
       "1                                  4810                                 8968   \n",
       "2                                 11687                                20660   \n",
       "3                                  7470                                13719   \n",
       "4                                  3304                                 5924   \n",
       "5                                  3237                                 5708   \n",
       "\n",
       "   mapping_stats.mapped_readlength_q95  mapping_stats.mapped_reads_n  \\\n",
       "0                                22480                        272393   \n",
       "1                                16530                        396370   \n",
       "2                                30290                         17762   \n",
       "3                                20370                        449931   \n",
       "4                                11470                        248365   \n",
       "5                                10240                        413560   \n",
       "\n",
       "   mapping_stats.mapped_subread_bases_n               ...                 \\\n",
       "0                            2074235751               ...                  \n",
       "1                            1888916069               ...                  \n",
       "2                             191479775               ...                  \n",
       "3                            3109535638               ...                  \n",
       "4                             814056472               ...                  \n",
       "5                            1330448079               ...                  \n",
       "\n",
       "   mapping_stats.mapped_subread_readlength_mean  \\\n",
       "0                                          1772   \n",
       "1                                          3732   \n",
       "2                                          1673   \n",
       "3                                          1872   \n",
       "4                                          2859   \n",
       "5                                          2827   \n",
       "\n",
       "   mapping_stats.mapped_subreadlength_n50  \\\n",
       "0                                    2075   \n",
       "1                                    6039   \n",
       "2                                    2016   \n",
       "3                                    2262   \n",
       "4                                    4536   \n",
       "5                                    4643   \n",
       "\n",
       "   mapping_stats.mapped_subreadlength_q95  mapping_stats.mapped_subreads_n  \\\n",
       "0                                    2880                          1170748   \n",
       "1                                   10010                           506093   \n",
       "2                                    2200                           114447   \n",
       "3                                    3150                          1660986   \n",
       "4                                    8850                           284695   \n",
       "5                                    8460                           470554   \n",
       "\n",
       "   port  variants.longest_contig_name  variants.mean_contig_length  \\\n",
       "0  8081                lambda_NEB3011                      48502.0   \n",
       "1  8081        ecoliK12_pbi_March2013                    4642522.0   \n",
       "2  8081          tkb_v1_C5_insertOnly                       1966.0   \n",
       "3  8081                lambda_NEB3011                      48502.0   \n",
       "4  8081        ecoliK12_pbi_March2013                    4642522.0   \n",
       "5  8081        ecoliK12_pbi_March2013                    4642522.0   \n",
       "\n",
       "  variants.weighted_mean_bases_called  variants.weighted_mean_concordance  \\\n",
       "0                                 1.0                            1.000000   \n",
       "1                                 1.0                            0.999834   \n",
       "2                                 1.0                            1.000000   \n",
       "3                                 1.0                            1.000000   \n",
       "4                                 1.0                            0.999937   \n",
       "5                                 1.0                            0.999829   \n",
       "\n",
       "   variants.weighted_mean_coverage  \n",
       "0                     40288.305513  \n",
       "1                       364.705681  \n",
       "2                     91904.489318  \n",
       "3                     59869.400293  \n",
       "4                       156.527813  \n",
       "5                       257.757219  \n",
       "\n",
       "[6 rows x 22 columns]"
      ]
     },
     "execution_count": 31,
     "metadata": {},
     "output_type": "execute_result"
    }
   ],
   "source": [
    "df"
   ]
  },
  {
   "cell_type": "code",
   "execution_count": 32,
   "metadata": {
    "collapsed": false
   },
   "outputs": [
    {
     "data": {
      "text/plain": [
       "<matplotlib.axes._subplots.AxesSubplot at 0x10bd75b90>"
      ]
     },
     "execution_count": 32,
     "metadata": {},
     "output_type": "execute_result"
    },
    {
     "data": {
      "image/png": "[encoded data removed]",
      "text/plain": [
       "<matplotlib.figure.Figure at 0x107301f90>"
      ]
     },
     "metadata": {},
     "output_type": "display_data"
    }
   ],
   "source": [
    "sns.barplot(x=\"job_id\", y=\"mapping_stats.mapped_readlength_mean\", data=df)"
   ]
  },
  {
   "cell_type": "code",
   "execution_count": null,
   "metadata": {
    "collapsed": true
   },
   "outputs": [],
   "source": []
  }
 ],
 "metadata": {
  "kernelspec": {
   "display_name": "Python 2",
   "language": "python",
   "name": "python2"
  },
  "language_info": {
   "codemirror_mode": {
    "name": "ipython",
    "version": 2
   },
   "file_extension": ".py",
   "mimetype": "text/x-python",
   "name": "python",
   "nbconvert_exporter": "python",
   "pygments_lexer": "ipython2",
   "version": "2.7.10"
  }
 },
 "nbformat": 4,
 "nbformat_minor": 0
}
